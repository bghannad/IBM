{
 "cells": [
  {
   "cell_type": "markdown",
   "id": "260ebc29-94a6-4646-aebb-9ac005c53b81",
   "metadata": {},
   "source": [
    "<center>\n",
    "    <img src=\"https://cf-courses-data.s3.us.cloud-object-storage.appdomain.cloud/IBMDeveloperSkillsNetwork-DS0105EN-SkillsNetwork/labs/Module2/images/SN_web_lightmode.png\" width=\"300\" alt=\"cognitiveclass.ai logo\">\n",
    "</center>\n"
   ]
  },
  {
   "cell_type": "markdown",
   "id": "be9b8848-28e3-4076-8396-9beb7796b51f",
   "metadata": {},
   "source": [
    "# Hands-on Lab: Create your Jupyter Notebook\n"
   ]
  },
  {
   "cell_type": "markdown",
   "id": "7af8ad68-0da9-4231-9d39-f1787078e0cf",
   "metadata": {},
   "source": [
    "#### Add your code below following the instructions given in the course\n"
   ]
  },
  {
   "cell_type": "markdown",
   "id": "71cb4cdd-42c4-4af2-b5fe-e6c4a0cec206",
   "metadata": {},
   "source": [
    "## Author : \n",
    "Bahareh Ghannad"
   ]
  },
  {
   "cell_type": "markdown",
   "id": "cc5c1b84-8159-40e3-872d-f382eec5f7fc",
   "metadata": {},
   "source": [
    "# Data Science Tools and Ecosystem "
   ]
  },
  {
   "cell_type": "markdown",
   "id": "731a448b-f700-4029-9faf-d02798520476",
   "metadata": {},
   "source": [
    "In this notebook, Data Science Tools and Ecosystem are summarized."
   ]
  },
  {
   "cell_type": "markdown",
   "id": "7627d517-af30-4667-abd9-b18c5b1d1320",
   "metadata": {},
   "source": [
    "**Objectives:**\n",
    "- listing popular languages for data science \n",
    "- making Jupyter notebook\n",
    "- using markdown and code cells\n",
    "- naming librairies used for data science\n",
    "- doing simple arithmetic with Jupyter notebook"
   ]
  },
  {
   "cell_type": "markdown",
   "id": "3135c0e5-cdc3-4cf5-a69f-e77bae1acd65",
   "metadata": {},
   "source": [
    "Some of the popular languages that Data Scientists use are:\n",
    "1. python\n",
    "2. R\n",
    "3. SQL"
   ]
  },
  {
   "cell_type": "markdown",
   "id": "9040d782-be9e-43a8-aa54-aa1ff0cd33a2",
   "metadata": {},
   "source": [
    "Some of the commonly used libraries used by Data Scientists include:\n",
    "\n",
    "1. NumPy(python)\n",
    "2. Pandas(python)\n",
    "3. Matplotlib(python)\n",
    "4. scikit-learn(python)\n"
   ]
  },
  {
   "cell_type": "markdown",
   "id": "78b6c19d-2f68-4a3c-9534-3179b1db5ea8",
   "metadata": {},
   "source": [
    "Data Science Tools :\n",
    "\n",
    "1. Jupyterlab\n",
    "2. VisualStudio Code\n",
    "3. RStudio\n",
    "4. Apache Zeppelin"
   ]
  },
  {
   "cell_type": "markdown",
   "id": "b2eb9a0c-45ed-465f-a9a1-b7c14a7e55df",
   "metadata": {},
   "source": [
    "### Below are a few examples of evaluating arithmetic expressions in Python"
   ]
  },
  {
   "cell_type": "code",
   "execution_count": 2,
   "id": "0a2f6509-359e-4430-91ac-877f696c97ab",
   "metadata": {},
   "outputs": [
    {
     "data": {
      "text/plain": [
       "17"
      ]
     },
     "execution_count": 2,
     "metadata": {},
     "output_type": "execute_result"
    }
   ],
   "source": [
    "#This a simple arithmetic expression to mutiply then add integers\n",
    "(3*4)+5"
   ]
  },
  {
   "cell_type": "code",
   "execution_count": 3,
   "id": "28103645-d719-4522-b34e-60f85960565b",
   "metadata": {},
   "outputs": [
    {
     "name": "stdout",
     "output_type": "stream",
     "text": [
      "3.3333333333333335\n"
     ]
    }
   ],
   "source": [
    "# This will convert 200 minutes to hours by diving by 60.\n",
    "h = 200/60\n",
    "print(h)"
   ]
  },
  {
   "cell_type": "markdown",
   "id": "e2db2246-e321-4a10-aae0-7a6b87aa64c5",
   "metadata": {},
   "source": [
    "Copyright ©2024 IBM Corporation. All rights reserved.\n"
   ]
  },
  {
   "cell_type": "code",
   "execution_count": null,
   "id": "24f330c5-95bf-4a8d-a607-1e5d0cee0844",
   "metadata": {},
   "outputs": [],
   "source": []
  }
 ],
 "metadata": {
  "kernelspec": {
   "display_name": "Python 3 (ipykernel)",
   "language": "python",
   "name": "python3"
  },
  "language_info": {
   "codemirror_mode": {
    "name": "ipython",
    "version": 3
   },
   "file_extension": ".py",
   "mimetype": "text/x-python",
   "name": "python",
   "nbconvert_exporter": "python",
   "pygments_lexer": "ipython3",
   "version": "3.12.7"
  }
 },
 "nbformat": 4,
 "nbformat_minor": 5
}
